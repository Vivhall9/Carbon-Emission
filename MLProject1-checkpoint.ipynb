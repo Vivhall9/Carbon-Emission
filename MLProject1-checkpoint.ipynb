{
 "cells": [
  {
   "cell_type": "markdown",
   "id": "eadeb2d0",
   "metadata": {},
   "source": [
    "# CO2 Emission"
   ]
  },
  {
   "cell_type": "code",
   "execution_count": 1,
   "id": "a33da2cb",
   "metadata": {},
   "outputs": [],
   "source": [
    "import pandas as pd"
   ]
  },
  {
   "cell_type": "code",
   "execution_count": 2,
   "id": "14439172",
   "metadata": {},
   "outputs": [],
   "source": [
    "df = pd.read_csv(r'C:\\Users\\hp\\OneDrive\\MLProject1\\co2-emission-sectors.csv')"
   ]
  },
  {
   "cell_type": "code",
   "execution_count": 3,
   "id": "11d26308",
   "metadata": {},
   "outputs": [
    {
     "data": {
      "text/html": [
       "<div>\n",
       "<style scoped>\n",
       "    .dataframe tbody tr th:only-of-type {\n",
       "        vertical-align: middle;\n",
       "    }\n",
       "\n",
       "    .dataframe tbody tr th {\n",
       "        vertical-align: top;\n",
       "    }\n",
       "\n",
       "    .dataframe thead th {\n",
       "        text-align: right;\n",
       "    }\n",
       "</style>\n",
       "<table border=\"1\" class=\"dataframe\">\n",
       "  <thead>\n",
       "    <tr style=\"text-align: right;\">\n",
       "      <th></th>\n",
       "      <th>Country</th>\n",
       "      <th>Year</th>\n",
       "      <th>From_Oil(BT)</th>\n",
       "      <th>From_Coal(BT)</th>\n",
       "      <th>From_Cement(BT)</th>\n",
       "      <th>Total(BT)</th>\n",
       "    </tr>\n",
       "  </thead>\n",
       "  <tbody>\n",
       "    <tr>\n",
       "      <th>0</th>\n",
       "      <td>India</td>\n",
       "      <td>1858</td>\n",
       "      <td>0.000000</td>\n",
       "      <td>0.000394</td>\n",
       "      <td>0.000000</td>\n",
       "      <td>0.000394</td>\n",
       "    </tr>\n",
       "    <tr>\n",
       "      <th>1</th>\n",
       "      <td>India</td>\n",
       "      <td>1859</td>\n",
       "      <td>0.000000</td>\n",
       "      <td>0.000636</td>\n",
       "      <td>0.000000</td>\n",
       "      <td>0.000636</td>\n",
       "    </tr>\n",
       "    <tr>\n",
       "      <th>2</th>\n",
       "      <td>India</td>\n",
       "      <td>1860</td>\n",
       "      <td>0.000000</td>\n",
       "      <td>0.000643</td>\n",
       "      <td>0.000000</td>\n",
       "      <td>0.000643</td>\n",
       "    </tr>\n",
       "    <tr>\n",
       "      <th>3</th>\n",
       "      <td>India</td>\n",
       "      <td>1861</td>\n",
       "      <td>0.000000</td>\n",
       "      <td>0.000497</td>\n",
       "      <td>0.000000</td>\n",
       "      <td>0.000497</td>\n",
       "    </tr>\n",
       "    <tr>\n",
       "      <th>4</th>\n",
       "      <td>India</td>\n",
       "      <td>1862</td>\n",
       "      <td>0.000000</td>\n",
       "      <td>0.000550</td>\n",
       "      <td>0.000000</td>\n",
       "      <td>0.000550</td>\n",
       "    </tr>\n",
       "    <tr>\n",
       "      <th>...</th>\n",
       "      <td>...</td>\n",
       "      <td>...</td>\n",
       "      <td>...</td>\n",
       "      <td>...</td>\n",
       "      <td>...</td>\n",
       "      <td>...</td>\n",
       "    </tr>\n",
       "    <tr>\n",
       "      <th>148</th>\n",
       "      <td>India</td>\n",
       "      <td>2017</td>\n",
       "      <td>0.631087</td>\n",
       "      <td>1.560988</td>\n",
       "      <td>0.121047</td>\n",
       "      <td>2.313123</td>\n",
       "    </tr>\n",
       "    <tr>\n",
       "      <th>149</th>\n",
       "      <td>India</td>\n",
       "      <td>2018</td>\n",
       "      <td>0.655190</td>\n",
       "      <td>1.677600</td>\n",
       "      <td>0.138965</td>\n",
       "      <td>2.471756</td>\n",
       "    </tr>\n",
       "    <tr>\n",
       "      <th>150</th>\n",
       "      <td>India</td>\n",
       "      <td>2019</td>\n",
       "      <td>0.674011</td>\n",
       "      <td>1.677654</td>\n",
       "      <td>0.143664</td>\n",
       "      <td>2.495329</td>\n",
       "    </tr>\n",
       "    <tr>\n",
       "      <th>151</th>\n",
       "      <td>India</td>\n",
       "      <td>2020</td>\n",
       "      <td>0.603602</td>\n",
       "      <td>1.588060</td>\n",
       "      <td>0.122908</td>\n",
       "      <td>2.314571</td>\n",
       "    </tr>\n",
       "    <tr>\n",
       "      <th>152</th>\n",
       "      <td>India</td>\n",
       "      <td>2021</td>\n",
       "      <td>0.622148</td>\n",
       "      <td>1.802312</td>\n",
       "      <td>0.149001</td>\n",
       "      <td>2.573461</td>\n",
       "    </tr>\n",
       "  </tbody>\n",
       "</table>\n",
       "<p>153 rows × 6 columns</p>\n",
       "</div>"
      ],
      "text/plain": [
       "    Country  Year  From_Oil(BT)  From_Coal(BT)  From_Cement(BT)  Total(BT)\n",
       "0     India  1858      0.000000       0.000394         0.000000   0.000394\n",
       "1     India  1859      0.000000       0.000636         0.000000   0.000636\n",
       "2     India  1860      0.000000       0.000643         0.000000   0.000643\n",
       "3     India  1861      0.000000       0.000497         0.000000   0.000497\n",
       "4     India  1862      0.000000       0.000550         0.000000   0.000550\n",
       "..      ...   ...           ...            ...              ...        ...\n",
       "148   India  2017      0.631087       1.560988         0.121047   2.313123\n",
       "149   India  2018      0.655190       1.677600         0.138965   2.471756\n",
       "150   India  2019      0.674011       1.677654         0.143664   2.495329\n",
       "151   India  2020      0.603602       1.588060         0.122908   2.314571\n",
       "152   India  2021      0.622148       1.802312         0.149001   2.573461\n",
       "\n",
       "[153 rows x 6 columns]"
      ]
     },
     "execution_count": 3,
     "metadata": {},
     "output_type": "execute_result"
    }
   ],
   "source": [
    "df"
   ]
  },
  {
   "cell_type": "code",
   "execution_count": 4,
   "id": "6af2c5b2",
   "metadata": {},
   "outputs": [
    {
     "data": {
      "text/html": [
       "<div>\n",
       "<style scoped>\n",
       "    .dataframe tbody tr th:only-of-type {\n",
       "        vertical-align: middle;\n",
       "    }\n",
       "\n",
       "    .dataframe tbody tr th {\n",
       "        vertical-align: top;\n",
       "    }\n",
       "\n",
       "    .dataframe thead th {\n",
       "        text-align: right;\n",
       "    }\n",
       "</style>\n",
       "<table border=\"1\" class=\"dataframe\">\n",
       "  <thead>\n",
       "    <tr style=\"text-align: right;\">\n",
       "      <th></th>\n",
       "      <th>Year</th>\n",
       "      <th>From_Oil(BT)</th>\n",
       "      <th>From_Coal(BT)</th>\n",
       "      <th>From_Cement(BT)</th>\n",
       "      <th>Total(BT)</th>\n",
       "    </tr>\n",
       "  </thead>\n",
       "  <tbody>\n",
       "    <tr>\n",
       "      <th>count</th>\n",
       "      <td>153.000000</td>\n",
       "      <td>153.000000</td>\n",
       "      <td>153.000000</td>\n",
       "      <td>153.000000</td>\n",
       "      <td>153.000000</td>\n",
       "    </tr>\n",
       "    <tr>\n",
       "      <th>mean</th>\n",
       "      <td>1944.352941</td>\n",
       "      <td>0.096721</td>\n",
       "      <td>0.241948</td>\n",
       "      <td>0.017152</td>\n",
       "      <td>0.355821</td>\n",
       "    </tr>\n",
       "    <tr>\n",
       "      <th>std</th>\n",
       "      <td>45.431625</td>\n",
       "      <td>0.170271</td>\n",
       "      <td>0.412597</td>\n",
       "      <td>0.034098</td>\n",
       "      <td>0.615563</td>\n",
       "    </tr>\n",
       "    <tr>\n",
       "      <th>min</th>\n",
       "      <td>1858.000000</td>\n",
       "      <td>0.000000</td>\n",
       "      <td>0.000394</td>\n",
       "      <td>0.000000</td>\n",
       "      <td>0.000394</td>\n",
       "    </tr>\n",
       "    <tr>\n",
       "      <th>25%</th>\n",
       "      <td>1907.000000</td>\n",
       "      <td>0.000887</td>\n",
       "      <td>0.019413</td>\n",
       "      <td>0.000000</td>\n",
       "      <td>0.021772</td>\n",
       "    </tr>\n",
       "    <tr>\n",
       "      <th>50%</th>\n",
       "      <td>1945.000000</td>\n",
       "      <td>0.003686</td>\n",
       "      <td>0.051254</td>\n",
       "      <td>0.001084</td>\n",
       "      <td>0.053180</td>\n",
       "    </tr>\n",
       "    <tr>\n",
       "      <th>75%</th>\n",
       "      <td>1983.000000</td>\n",
       "      <td>0.099170</td>\n",
       "      <td>0.231493</td>\n",
       "      <td>0.010951</td>\n",
       "      <td>0.342640</td>\n",
       "    </tr>\n",
       "    <tr>\n",
       "      <th>max</th>\n",
       "      <td>2021.000000</td>\n",
       "      <td>0.674011</td>\n",
       "      <td>1.802312</td>\n",
       "      <td>0.149001</td>\n",
       "      <td>2.573461</td>\n",
       "    </tr>\n",
       "  </tbody>\n",
       "</table>\n",
       "</div>"
      ],
      "text/plain": [
       "              Year  From_Oil(BT)  From_Coal(BT)  From_Cement(BT)   Total(BT)\n",
       "count   153.000000    153.000000     153.000000       153.000000  153.000000\n",
       "mean   1944.352941      0.096721       0.241948         0.017152    0.355821\n",
       "std      45.431625      0.170271       0.412597         0.034098    0.615563\n",
       "min    1858.000000      0.000000       0.000394         0.000000    0.000394\n",
       "25%    1907.000000      0.000887       0.019413         0.000000    0.021772\n",
       "50%    1945.000000      0.003686       0.051254         0.001084    0.053180\n",
       "75%    1983.000000      0.099170       0.231493         0.010951    0.342640\n",
       "max    2021.000000      0.674011       1.802312         0.149001    2.573461"
      ]
     },
     "execution_count": 4,
     "metadata": {},
     "output_type": "execute_result"
    }
   ],
   "source": [
    "df.describe()"
   ]
  },
  {
   "cell_type": "code",
   "execution_count": 5,
   "id": "15bb098d",
   "metadata": {},
   "outputs": [
    {
     "data": {
      "text/plain": [
       "0.000000    62\n",
       "0.000293     2\n",
       "0.018229     1\n",
       "0.037418     1\n",
       "0.034079     1\n",
       "            ..\n",
       "0.004002     1\n",
       "0.003537     1\n",
       "0.003154     1\n",
       "0.002903     1\n",
       "0.149001     1\n",
       "Name: From_Cement(BT), Length: 91, dtype: int64"
      ]
     },
     "execution_count": 5,
     "metadata": {},
     "output_type": "execute_result"
    }
   ],
   "source": [
    "df['From_Cement(BT)'].value_counts()"
   ]
  },
  {
   "cell_type": "code",
   "execution_count": 6,
   "id": "a535bc17",
   "metadata": {},
   "outputs": [
    {
     "data": {
      "text/plain": [
       "(153, 6)"
      ]
     },
     "execution_count": 6,
     "metadata": {},
     "output_type": "execute_result"
    }
   ],
   "source": [
    "df.shape"
   ]
  },
  {
   "cell_type": "code",
   "execution_count": 7,
   "id": "45d61330",
   "metadata": {},
   "outputs": [
    {
     "name": "stdout",
     "output_type": "stream",
     "text": [
      "<class 'pandas.core.frame.DataFrame'>\n",
      "RangeIndex: 153 entries, 0 to 152\n",
      "Data columns (total 6 columns):\n",
      " #   Column           Non-Null Count  Dtype  \n",
      "---  ------           --------------  -----  \n",
      " 0   Country          153 non-null    object \n",
      " 1   Year             153 non-null    int64  \n",
      " 2   From_Oil(BT)     153 non-null    float64\n",
      " 3   From_Coal(BT)    153 non-null    float64\n",
      " 4   From_Cement(BT)  153 non-null    float64\n",
      " 5   Total(BT)        153 non-null    float64\n",
      "dtypes: float64(4), int64(1), object(1)\n",
      "memory usage: 7.3+ KB\n"
     ]
    }
   ],
   "source": [
    "df.info()"
   ]
  },
  {
   "cell_type": "code",
   "execution_count": 8,
   "id": "e7b60ea9",
   "metadata": {},
   "outputs": [],
   "source": [
    "final_df = df.drop(['Country'], axis=1)"
   ]
  },
  {
   "cell_type": "code",
   "execution_count": 9,
   "id": "57b7b572",
   "metadata": {},
   "outputs": [
    {
     "data": {
      "text/html": [
       "<div>\n",
       "<style scoped>\n",
       "    .dataframe tbody tr th:only-of-type {\n",
       "        vertical-align: middle;\n",
       "    }\n",
       "\n",
       "    .dataframe tbody tr th {\n",
       "        vertical-align: top;\n",
       "    }\n",
       "\n",
       "    .dataframe thead th {\n",
       "        text-align: right;\n",
       "    }\n",
       "</style>\n",
       "<table border=\"1\" class=\"dataframe\">\n",
       "  <thead>\n",
       "    <tr style=\"text-align: right;\">\n",
       "      <th></th>\n",
       "      <th>Year</th>\n",
       "      <th>From_Oil(BT)</th>\n",
       "      <th>From_Coal(BT)</th>\n",
       "      <th>From_Cement(BT)</th>\n",
       "      <th>Total(BT)</th>\n",
       "    </tr>\n",
       "  </thead>\n",
       "  <tbody>\n",
       "    <tr>\n",
       "      <th>0</th>\n",
       "      <td>1858</td>\n",
       "      <td>0.000000</td>\n",
       "      <td>0.000394</td>\n",
       "      <td>0.000000</td>\n",
       "      <td>0.000394</td>\n",
       "    </tr>\n",
       "    <tr>\n",
       "      <th>1</th>\n",
       "      <td>1859</td>\n",
       "      <td>0.000000</td>\n",
       "      <td>0.000636</td>\n",
       "      <td>0.000000</td>\n",
       "      <td>0.000636</td>\n",
       "    </tr>\n",
       "    <tr>\n",
       "      <th>2</th>\n",
       "      <td>1860</td>\n",
       "      <td>0.000000</td>\n",
       "      <td>0.000643</td>\n",
       "      <td>0.000000</td>\n",
       "      <td>0.000643</td>\n",
       "    </tr>\n",
       "    <tr>\n",
       "      <th>3</th>\n",
       "      <td>1861</td>\n",
       "      <td>0.000000</td>\n",
       "      <td>0.000497</td>\n",
       "      <td>0.000000</td>\n",
       "      <td>0.000497</td>\n",
       "    </tr>\n",
       "    <tr>\n",
       "      <th>4</th>\n",
       "      <td>1862</td>\n",
       "      <td>0.000000</td>\n",
       "      <td>0.000550</td>\n",
       "      <td>0.000000</td>\n",
       "      <td>0.000550</td>\n",
       "    </tr>\n",
       "    <tr>\n",
       "      <th>...</th>\n",
       "      <td>...</td>\n",
       "      <td>...</td>\n",
       "      <td>...</td>\n",
       "      <td>...</td>\n",
       "      <td>...</td>\n",
       "    </tr>\n",
       "    <tr>\n",
       "      <th>148</th>\n",
       "      <td>2017</td>\n",
       "      <td>0.631087</td>\n",
       "      <td>1.560988</td>\n",
       "      <td>0.121047</td>\n",
       "      <td>2.313123</td>\n",
       "    </tr>\n",
       "    <tr>\n",
       "      <th>149</th>\n",
       "      <td>2018</td>\n",
       "      <td>0.655190</td>\n",
       "      <td>1.677600</td>\n",
       "      <td>0.138965</td>\n",
       "      <td>2.471756</td>\n",
       "    </tr>\n",
       "    <tr>\n",
       "      <th>150</th>\n",
       "      <td>2019</td>\n",
       "      <td>0.674011</td>\n",
       "      <td>1.677654</td>\n",
       "      <td>0.143664</td>\n",
       "      <td>2.495329</td>\n",
       "    </tr>\n",
       "    <tr>\n",
       "      <th>151</th>\n",
       "      <td>2020</td>\n",
       "      <td>0.603602</td>\n",
       "      <td>1.588060</td>\n",
       "      <td>0.122908</td>\n",
       "      <td>2.314571</td>\n",
       "    </tr>\n",
       "    <tr>\n",
       "      <th>152</th>\n",
       "      <td>2021</td>\n",
       "      <td>0.622148</td>\n",
       "      <td>1.802312</td>\n",
       "      <td>0.149001</td>\n",
       "      <td>2.573461</td>\n",
       "    </tr>\n",
       "  </tbody>\n",
       "</table>\n",
       "<p>153 rows × 5 columns</p>\n",
       "</div>"
      ],
      "text/plain": [
       "     Year  From_Oil(BT)  From_Coal(BT)  From_Cement(BT)  Total(BT)\n",
       "0    1858      0.000000       0.000394         0.000000   0.000394\n",
       "1    1859      0.000000       0.000636         0.000000   0.000636\n",
       "2    1860      0.000000       0.000643         0.000000   0.000643\n",
       "3    1861      0.000000       0.000497         0.000000   0.000497\n",
       "4    1862      0.000000       0.000550         0.000000   0.000550\n",
       "..    ...           ...            ...              ...        ...\n",
       "148  2017      0.631087       1.560988         0.121047   2.313123\n",
       "149  2018      0.655190       1.677600         0.138965   2.471756\n",
       "150  2019      0.674011       1.677654         0.143664   2.495329\n",
       "151  2020      0.603602       1.588060         0.122908   2.314571\n",
       "152  2021      0.622148       1.802312         0.149001   2.573461\n",
       "\n",
       "[153 rows x 5 columns]"
      ]
     },
     "execution_count": 9,
     "metadata": {},
     "output_type": "execute_result"
    }
   ],
   "source": [
    "final_df"
   ]
  },
  {
   "cell_type": "code",
   "execution_count": 10,
   "id": "41d6495b",
   "metadata": {},
   "outputs": [
    {
     "name": "stdout",
     "output_type": "stream",
     "text": [
      "Requirement already satisfied: matplotlib in c:\\users\\hp\\anaconda3\\lib\\site-packages (3.5.2)\n",
      "Requirement already satisfied: packaging>=20.0 in c:\\users\\hp\\anaconda3\\lib\\site-packages (from matplotlib) (21.3)\n",
      "Requirement already satisfied: kiwisolver>=1.0.1 in c:\\users\\hp\\anaconda3\\lib\\site-packages (from matplotlib) (1.4.2)\n",
      "Requirement already satisfied: python-dateutil>=2.7 in c:\\users\\hp\\anaconda3\\lib\\site-packages (from matplotlib) (2.8.2)\n",
      "Requirement already satisfied: pyparsing>=2.2.1 in c:\\users\\hp\\anaconda3\\lib\\site-packages (from matplotlib) (3.0.9)\n",
      "Requirement already satisfied: fonttools>=4.22.0 in c:\\users\\hp\\anaconda3\\lib\\site-packages (from matplotlib) (4.25.0)\n",
      "Requirement already satisfied: cycler>=0.10 in c:\\users\\hp\\anaconda3\\lib\\site-packages (from matplotlib) (0.11.0)\n",
      "Requirement already satisfied: pillow>=6.2.0 in c:\\users\\hp\\anaconda3\\lib\\site-packages (from matplotlib) (9.2.0)\n",
      "Requirement already satisfied: numpy>=1.17 in c:\\users\\hp\\anaconda3\\lib\\site-packages (from matplotlib) (1.21.5)\n",
      "Requirement already satisfied: six>=1.5 in c:\\users\\hp\\anaconda3\\lib\\site-packages (from python-dateutil>=2.7->matplotlib) (1.16.0)\n",
      "Note: you may need to restart the kernel to use updated packages.\n"
     ]
    }
   ],
   "source": [
    "pip install matplotlib"
   ]
  },
  {
   "cell_type": "code",
   "execution_count": 11,
   "id": "68db32c6",
   "metadata": {},
   "outputs": [],
   "source": [
    "import matplotlib.pyplot as plt"
   ]
  },
  {
   "cell_type": "code",
   "execution_count": 12,
   "id": "ab726a0b",
   "metadata": {},
   "outputs": [],
   "source": [
    "import numpy as np"
   ]
  },
  {
   "cell_type": "code",
   "execution_count": 13,
   "id": "65f9aa7c",
   "metadata": {},
   "outputs": [
    {
     "data": {
      "image/png": "[encoded data removed]",
      "text/plain": [
       "<Figure size 640x480 with 1 Axes>"
      ]
     },
     "metadata": {},
     "output_type": "display_data"
    }
   ],
   "source": [
    "final_df.plot(kind='scatter',x='Year',y='From_Oil(BT)',color='red')\n",
    "plt.savefig('outputfile_OIL_Scatter.png')"
   ]
  },
  {
   "cell_type": "code",
   "execution_count": 14,
   "id": "d844560c",
   "metadata": {},
   "outputs": [
    {
     "data": {
      "image/png": "[encoded data removed]",
      "text/plain": [
       "<Figure size 640x480 with 1 Axes>"
      ]
     },
     "metadata": {},
     "output_type": "display_data"
    }
   ],
   "source": [
    "final_df.plot(kind='scatter',x='Year',y='From_Coal(BT)',color='blue')\n",
    "plt.savefig('outputfile_COAL_Scatter.png')"
   ]
  },
  {
   "cell_type": "code",
   "execution_count": 15,
   "id": "91f1d1e4",
   "metadata": {},
   "outputs": [
    {
     "data": {
      "image/png": "[encoded data removed]",
      "text/plain": [
       "<Figure size 640x480 with 1 Axes>"
      ]
     },
     "metadata": {},
     "output_type": "display_data"
    }
   ],
   "source": [
    "final_df.plot(kind='scatter',x='Year',y='From_Cement(BT)',color='green')\n",
    "plt.savefig('outputfile_CEMENT_Scatter.png')"
   ]
  },
  {
   "cell_type": "code",
   "execution_count": 16,
   "id": "269ddd29",
   "metadata": {},
   "outputs": [
    {
     "data": {
      "image/png": "[encoded data removed]",
      "text/plain": [
       "<Figure size 640x480 with 1 Axes>"
      ]
     },
     "metadata": {},
     "output_type": "display_data"
    }
   ],
   "source": [
    "final_df.plot(kind='scatter',x='Year',y='Total(BT)',color='cyan')\n",
    "plt.savefig('outputfile_CEMENT_Scatter.png')"
   ]
  },
  {
   "cell_type": "code",
   "execution_count": 17,
   "id": "e3fb1e0a",
   "metadata": {},
   "outputs": [],
   "source": [
    "x = df['Year'].to_numpy()\n",
    "y=df['From_Oil(BT)'].to_numpy()\n",
    "z=df['From_Coal(BT)'].to_numpy()\n",
    "w=df['From_Cement(BT)'].to_numpy()\n",
    "t=df['Total(BT)'].to_numpy()"
   ]
  },
  {
   "cell_type": "code",
   "execution_count": 18,
   "id": "7a67368d",
   "metadata": {},
   "outputs": [
    {
     "data": {
      "image/png": "[encoded data removed]",
      "text/plain": [
       "<Figure size 640x480 with 1 Axes>"
      ]
     },
     "metadata": {},
     "output_type": "display_data"
    }
   ],
   "source": [
    "plt.plot(x, y, label = \"oil\")\n",
    "plt.plot(x, z, label = \"coal\")\n",
    "plt.plot(x,w,label=\"cement\")\n",
    "plt.plot(x,t,label=\"total\")\n",
    "plt.legend()\n",
    "plt.savefig('outputfile_line_graph_All')"
   ]
  },
  {
   "cell_type": "code",
   "execution_count": 19,
   "id": "1c47f385",
   "metadata": {},
   "outputs": [
    {
     "data": {
      "image/png": "[encoded data removed]",
      "text/plain": [
       "<Figure size 640x480 with 1 Axes>"
      ]
     },
     "metadata": {},
     "output_type": "display_data"
    }
   ],
   "source": [
    "ax = final_df.hist(column='Total(BT)', color='#86bf91')"
   ]
  },
  {
   "cell_type": "markdown",
   "id": "64b95af2",
   "metadata": {},
   "source": [
    "# Train-Test-Spliting"
   ]
  },
  {
   "cell_type": "code",
   "execution_count": 20,
   "id": "2dc8e2af",
   "metadata": {},
   "outputs": [
    {
     "name": "stdout",
     "output_type": "stream",
     "text": [
      "Requirement already satisfied: sklearn in c:\\users\\hp\\anaconda3\\lib\\site-packages (0.0.post1)\n",
      "Note: you may need to restart the kernel to use updated packages.\n"
     ]
    }
   ],
   "source": [
    "#pip install sklearn"
   ]
  },
  {
   "cell_type": "code",
   "execution_count": 25,
   "id": "1dc68435",
   "metadata": {},
   "outputs": [
    {
     "data": {
      "text/plain": [
       "<bound method IndexOpsMixin.value_counts of 0      0.000394\n",
       "1      0.000636\n",
       "2      0.000643\n",
       "3      0.000497\n",
       "4      0.000550\n",
       "         ...   \n",
       "148    1.560988\n",
       "149    1.677600\n",
       "150    1.677654\n",
       "151    1.588060\n",
       "152    1.802312\n",
       "Name: From_Coal(BT), Length: 153, dtype: float64>"
      ]
     },
     "execution_count": 25,
     "metadata": {},
     "output_type": "execute_result"
    }
   ],
   "source": [
    "final_df['From_Coal(BT)'].value_counts"
   ]
  },
  {
   "cell_type": "code",
   "execution_count": 26,
   "id": "59f63f8f",
   "metadata": {},
   "outputs": [
    {
     "data": {
      "text/plain": [
       "<bound method IndexOpsMixin.value_counts of 0      0.000000\n",
       "1      0.000000\n",
       "2      0.000000\n",
       "3      0.000000\n",
       "4      0.000000\n",
       "         ...   \n",
       "148    0.631087\n",
       "149    0.655190\n",
       "150    0.674011\n",
       "151    0.603602\n",
       "152    0.622148\n",
       "Name: From_Oil(BT), Length: 153, dtype: float64>"
      ]
     },
     "execution_count": 26,
     "metadata": {},
     "output_type": "execute_result"
    }
   ],
   "source": [
    "final_df['From_Oil(BT)'].value_counts"
   ]
  },
  {
   "cell_type": "code",
   "execution_count": 27,
   "id": "ae856ca7",
   "metadata": {},
   "outputs": [
    {
     "data": {
      "text/plain": [
       "<bound method IndexOpsMixin.value_counts of 0      0.000000\n",
       "1      0.000000\n",
       "2      0.000000\n",
       "3      0.000000\n",
       "4      0.000000\n",
       "         ...   \n",
       "148    0.121047\n",
       "149    0.138965\n",
       "150    0.143664\n",
       "151    0.122908\n",
       "152    0.149001\n",
       "Name: From_Cement(BT), Length: 153, dtype: float64>"
      ]
     },
     "execution_count": 27,
     "metadata": {},
     "output_type": "execute_result"
    }
   ],
   "source": [
    "final_df['From_Cement(BT)'].value_counts"
   ]
  },
  {
   "cell_type": "code",
   "execution_count": 21,
   "id": "ab038c41",
   "metadata": {},
   "outputs": [
    {
     "name": "stdout",
     "output_type": "stream",
     "text": [
      "rows in train_set: 122\n",
      "Rows in test_sets: 31\n"
     ]
    }
   ],
   "source": [
    "from sklearn.model_selection import train_test_split\n",
    "train_set , test_set = train_test_split(final_df,test_size = 0.2 , random_state = 42)\n",
    "print(f\"rows in train_set: {len(train_set)}\\nRows in test_sets: {len(test_set)}\")"
   ]
  },
  {
   "cell_type": "code",
   "execution_count": null,
   "id": "1f0797d5",
   "metadata": {},
   "outputs": [],
   "source": []
  }
 ],
 "metadata": {
  "kernelspec": {
   "display_name": "Python 3 (ipykernel)",
   "language": "python",
   "name": "python3"
  },
  "language_info": {
   "codemirror_mode": {
    "name": "ipython",
    "version": 3
   },
   "file_extension": ".py",
   "mimetype": "text/x-python",
   "name": "python",
   "nbconvert_exporter": "python",
   "pygments_lexer": "ipython3",
   "version": "3.9.13"
  }
 },
 "nbformat": 4,
 "nbformat_minor": 5
}
